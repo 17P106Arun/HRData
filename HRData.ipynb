{
 "cells": [
  {
   "cell_type": "markdown",
   "execution_count": 66,
   "metadata": {},
   "outputs": [],
   "source": [
    "###HR Data Analysis \n","\n",
    "###ARUNPRASATH P \n","\n",
    "Objective: To predict if an valuable employee is going to resign or not \n","\n",
    "The dataset contain 35 variables along with Attrition variable \n","\n",
    "Attribute Description \n","\n",
    "Attribute Name : Definition \n","\n",
    "Satisfaction Level : Employee Satisfaction (can be interpreted as a %) \n","\n",
    "Last evaluation : Employee Evaluation (can be interpreted as a %) \n","\n",
    "Projects : Number of Projects (per year) \n","\n",
    "Average monthly hours : Average monthly hours \n","\n",
    "Time spent at company : Time spent at company \n","\n",
    "Accident : Whether they have had a work accident \n","\n",
    "Promotion Last 5 yrs : Whether they have had a promotion in the last 5 years \n","\n",
    "Positions : Type of Job Position \n","\n",
    "Salary : Salary level (1= low, 2= medium, 3= high) \n","\n",
    "Left : Whether the employee has left (0= remains employed, 1= left) \n","\n"
    ]
    },
  {
   "cell_type": "code",
   "execution_count": 66,
   "metadata": {},
   "outputs": [],
   "source": [
    "#import pyspark libraries\n",
    "from pyspark import SparkContext,SparkConf\n",
    "from pyspark.sql import SparkSession\n",
    "spark = SparkSession.builder.getOrCreate()\n",
    "sc=SparkContext.getOrCreate()"
   ]
  },
  {
   "cell_type": "code",
   "execution_count": 67,
   "metadata": {},
   "outputs": [],
   "source": [
    "#import the dataset\n",
    "data = spark.read.csv('HR_comma_sep.csv',inferSchema=True,header=True)"
   ]
  },
  {
   "cell_type": "code",
   "execution_count": 68,
   "metadata": {},
   "outputs": [
    {
     "data": {
      "text/plain": [
       "pyspark.sql.dataframe.DataFrame"
      ]
     },
     "execution_count": 68,
     "metadata": {},
     "output_type": "execute_result"
    }
   ],
   "source": [
    "#type of data\n",
    "type(data)"
   ]
  },
  {
   "cell_type": "code",
   "execution_count": 10,
   "metadata": {},
   "outputs": [
    {
     "name": "stdout",
     "output_type": "stream",
     "text": [
      "+------------------+---------------+--------------+--------------------+------------------+-------------+----+---------------------+-----+------+\n",
      "|satisfaction_level|last_evaluation|number_project|average_montly_hours|time_spend_company|Work_accident|left|promotion_last_5years|sales|salary|\n",
      "+------------------+---------------+--------------+--------------------+------------------+-------------+----+---------------------+-----+------+\n",
      "|              0.38|           0.53|             2|                 157|                 3|            0|   1|                    0|sales|   low|\n",
      "|               0.8|           0.86|             5|                 262|                 6|            0|   1|                    0|sales|medium|\n",
      "|              0.11|           0.88|             7|                 272|                 4|            0|   1|                    0|sales|medium|\n",
      "|              0.72|           0.87|             5|                 223|                 5|            0|   1|                    0|sales|   low|\n",
      "|              0.37|           0.52|             2|                 159|                 3|            0|   1|                    0|sales|   low|\n",
      "|              0.41|            0.5|             2|                 153|                 3|            0|   1|                    0|sales|   low|\n",
      "|               0.1|           0.77|             6|                 247|                 4|            0|   1|                    0|sales|   low|\n",
      "|              0.92|           0.85|             5|                 259|                 5|            0|   1|                    0|sales|   low|\n",
      "|              0.89|            1.0|             5|                 224|                 5|            0|   1|                    0|sales|   low|\n",
      "|              0.42|           0.53|             2|                 142|                 3|            0|   1|                    0|sales|   low|\n",
      "|              0.45|           0.54|             2|                 135|                 3|            0|   1|                    0|sales|   low|\n",
      "|              0.11|           0.81|             6|                 305|                 4|            0|   1|                    0|sales|   low|\n",
      "|              0.84|           0.92|             4|                 234|                 5|            0|   1|                    0|sales|   low|\n",
      "|              0.41|           0.55|             2|                 148|                 3|            0|   1|                    0|sales|   low|\n",
      "|              0.36|           0.56|             2|                 137|                 3|            0|   1|                    0|sales|   low|\n",
      "|              0.38|           0.54|             2|                 143|                 3|            0|   1|                    0|sales|   low|\n",
      "|              0.45|           0.47|             2|                 160|                 3|            0|   1|                    0|sales|   low|\n",
      "|              0.78|           0.99|             4|                 255|                 6|            0|   1|                    0|sales|   low|\n",
      "|              0.45|           0.51|             2|                 160|                 3|            1|   1|                    1|sales|   low|\n",
      "|              0.76|           0.89|             5|                 262|                 5|            0|   1|                    0|sales|   low|\n",
      "+------------------+---------------+--------------+--------------------+------------------+-------------+----+---------------------+-----+------+\n",
      "only showing top 20 rows\n",
      "\n"
     ]
    }
   ],
   "source": [
    "#first 10 rows in dataset\n",
    "data.show(20)"
   ]
  },
  {
   "cell_type": "code",
   "execution_count": 5,
   "metadata": {},
   "outputs": [
    {
     "name": "stdout",
     "output_type": "stream",
     "text": [
      "root\n",
      " |-- satisfaction_level: double (nullable = true)\n",
      " |-- last_evaluation: double (nullable = true)\n",
      " |-- number_project: integer (nullable = true)\n",
      " |-- average_montly_hours: integer (nullable = true)\n",
      " |-- time_spend_company: integer (nullable = true)\n",
      " |-- Work_accident: integer (nullable = true)\n",
      " |-- left: integer (nullable = true)\n",
      " |-- promotion_last_5years: integer (nullable = true)\n",
      " |-- sales: string (nullable = true)\n",
      " |-- salary: string (nullable = true)\n",
      "\n"
     ]
    }
   ],
   "source": [
    "#to describe the types of column in dataframe\n",
    "data.printSchema()"
   ]
  },
  {
   "cell_type": "code",
   "execution_count": 12,
   "metadata": {},
   "outputs": [
    {
     "data": {
      "text/plain": [
       "['satisfaction_level',\n",
       " 'last_evaluation',\n",
       " 'number_project',\n",
       " 'average_montly_hours',\n",
       " 'time_spend_company',\n",
       " 'Work_accident',\n",
       " 'left',\n",
       " 'promotion_last_5years',\n",
       " 'sales',\n",
       " 'salary']"
      ]
     },
     "execution_count": 12,
     "metadata": {},
     "output_type": "execute_result"
    }
   ],
   "source": [
    "#columns in dataset\n",
    "data.columns"
   ]
  },
  {
   "cell_type": "code",
   "execution_count": 14,
   "metadata": {},
   "outputs": [
    {
     "data": {
      "text/plain": [
       "14999"
      ]
     },
     "execution_count": 14,
     "metadata": {},
     "output_type": "execute_result"
    }
   ],
   "source": [
    "#no of rows in dataset\n",
    "data.count()"
   ]
  },
  {
   "cell_type": "code",
   "execution_count": 16,
   "metadata": {},
   "outputs": [
    {
     "name": "stdout",
     "output_type": "stream",
     "text": [
      "+-------+-------------------+-------------------+------------------+--------------------+------------------+-------------------+-------------------+---------------------+---------+------+\n",
      "|summary| satisfaction_level|    last_evaluation|    number_project|average_montly_hours|time_spend_company|      Work_accident|               left|promotion_last_5years|    sales|salary|\n",
      "+-------+-------------------+-------------------+------------------+--------------------+------------------+-------------------+-------------------+---------------------+---------+------+\n",
      "|  count|              14999|              14999|             14999|               14999|             14999|              14999|              14999|                14999|    14999| 14999|\n",
      "|   mean| 0.6128335222348166| 0.7161017401159978|  3.80305353690246|   201.0503366891126| 3.498233215547703| 0.1446096406427095| 0.2380825388359224| 0.021268084538969265|     null|  null|\n",
      "| stddev|0.24863065106114257|0.17116911062327556|1.2325923553183513|   49.94309937128406|1.4601362305354808|0.35171855238017957|0.42592409938029885|   0.1442814645785825|     null|  null|\n",
      "|    min|               0.09|               0.36|                 2|                  96|                 2|                  0|                  0|                    0|       IT|  high|\n",
      "|    max|                1.0|                1.0|                 7|                 310|                10|                  1|                  1|                    1|technical|medium|\n",
      "+-------+-------------------+-------------------+------------------+--------------------+------------------+-------------------+-------------------+---------------------+---------+------+\n",
      "\n"
     ]
    }
   ],
   "source": [
    "#summary statistics of numerical columns\n",
    "data.describe().show(5)"
   ]
  },
  {
   "cell_type": "code",
   "execution_count": 20,
   "metadata": {},
   "outputs": [
    {
     "name": "stdout",
     "output_type": "stream",
     "text": [
      "+-----------+\n",
      "|      sales|\n",
      "+-----------+\n",
      "|      sales|\n",
      "| accounting|\n",
      "|         hr|\n",
      "|  technical|\n",
      "|    support|\n",
      "| management|\n",
      "|         IT|\n",
      "|product_mng|\n",
      "|  marketing|\n",
      "|      RandD|\n",
      "+-----------+\n",
      "\n"
     ]
    }
   ],
   "source": [
    "#unique data from sales column\n",
    "data[[\"sales\"]].distinct().show()"
   ]
  },
  {
   "cell_type": "code",
   "execution_count": 23,
   "metadata": {},
   "outputs": [
    {
     "name": "stdout",
     "output_type": "stream",
     "text": [
      "+------------------+-----+------+\n",
      "|satisfaction_level|sales|salary|\n",
      "+------------------+-----+------+\n",
      "|              0.38|sales|   low|\n",
      "|               0.8|sales|medium|\n",
      "|              0.11|sales|medium|\n",
      "|              0.72|sales|   low|\n",
      "|              0.37|sales|   low|\n",
      "|              0.41|sales|   low|\n",
      "|               0.1|sales|   low|\n",
      "|              0.92|sales|   low|\n",
      "|              0.89|sales|   low|\n",
      "|              0.42|sales|   low|\n",
      "|              0.45|sales|   low|\n",
      "|              0.11|sales|   low|\n",
      "|              0.84|sales|   low|\n",
      "|              0.41|sales|   low|\n",
      "|              0.36|sales|   low|\n",
      "+------------------+-----+------+\n",
      "only showing top 15 rows\n",
      "\n"
     ]
    }
   ],
   "source": [
    "#view satisfaction_level,sales,salary columns\n",
    "data.select(\"satisfaction_level\",\"sales\",\"salary\").show(15)"
   ]
  },
  {
   "cell_type": "code",
   "execution_count": 29,
   "metadata": {},
   "outputs": [],
   "source": [
    "#rename a column sales to department\n",
    "data = data.withColumnRenamed('sales','department')"
   ]
  },
  {
   "cell_type": "code",
   "execution_count": 30,
   "metadata": {},
   "outputs": [
    {
     "data": {
      "text/plain": [
       "['satisfaction_level',\n",
       " 'last_evaluation',\n",
       " 'number_project',\n",
       " 'average_montly_hours',\n",
       " 'time_spend_company',\n",
       " 'Work_accident',\n",
       " 'left',\n",
       " 'promotion_last_5years',\n",
       " 'department',\n",
       " 'salary']"
      ]
     },
     "execution_count": 30,
     "metadata": {},
     "output_type": "execute_result"
    }
   ],
   "source": [
    "#view column names\n",
    "data.columns"
   ]
  },
  {
   "cell_type": "code",
   "execution_count": 27,
   "metadata": {},
   "outputs": [],
   "source": [
    "#to convert string to numbers using Featurization\n",
    "import pyspark.ml.feature as ft\n",
    "transformer_dept = ft.StringIndexer(inputCol='department', outputCol='department_en')\n",
    "transformer_salary = ft.StringIndexer(inputCol='salary', outputCol='salary_en')"
   ]
  },
  {
   "cell_type": "code",
   "execution_count": 36,
   "metadata": {},
   "outputs": [],
   "source": [
    "#to convert all numerical data to vector\n",
    "fc = ft.VectorAssembler(inputCols=['satisfaction_level',\n",
    " 'last_evaluation',\n",
    " 'number_project',\n",
    " 'average_montly_hours',\n",
    " 'time_spend_company',\n",
    " 'Work_accident',\n",
    " 'promotion_last_5years','department_en','salary_en'], outputCol='features')"
   ]
  },
  {
   "cell_type": "code",
   "execution_count": 33,
   "metadata": {},
   "outputs": [],
   "source": [
    "#import pyspark ml libraries\n",
    "import pyspark.ml.classification as cl"
   ]
  },
  {
   "cell_type": "code",
   "execution_count": 34,
   "metadata": {},
   "outputs": [],
   "source": [
    "#to create an estimator\n",
    "logisticreg = cl.LogisticRegression(maxIter=10, regParam=0.01, labelCol='left')"
   ]
  },
  {
   "cell_type": "code",
   "execution_count": 35,
   "metadata": {},
   "outputs": [],
   "source": [
    "#import pipeline libraries\n",
    "from pyspark.ml import Pipeline"
   ]
  },
  {
   "cell_type": "code",
   "execution_count": 38,
   "metadata": {},
   "outputs": [],
   "source": [
    "#create pipeline connecting 3 transformers & one estimator\n",
    "pipeline = Pipeline(stages=[transformer_dept, \n",
    "                            transformer_salary, \n",
    "                            fc,\n",
    "                            logisticreg])"
   ]
  },
  {
   "cell_type": "code",
   "execution_count": 39,
   "metadata": {},
   "outputs": [],
   "source": [
    "#to split data into train and test data\n",
    "train_data,test_data = data.randomSplit([0.7,0.3],seed=100)\n"
   ]
  },
  {
   "cell_type": "code",
   "execution_count": 43,
   "metadata": {},
   "outputs": [
    {
     "name": "stdout",
     "output_type": "stream",
     "text": [
      "+------------------+---------------+--------------+--------------------+------------------+-------------+----+---------------------+-----------+------+\n",
      "|satisfaction_level|last_evaluation|number_project|average_montly_hours|time_spend_company|Work_accident|left|promotion_last_5years| department|salary|\n",
      "+------------------+---------------+--------------+--------------------+------------------+-------------+----+---------------------+-----------+------+\n",
      "|              0.09|           0.62|             6|                 294|                 4|            0|   1|                    0| accounting|   low|\n",
      "|              0.09|           0.62|             6|                 294|                 4|            0|   1|                    0| accounting|   low|\n",
      "|              0.09|           0.62|             6|                 294|                 4|            0|   1|                    0| accounting|   low|\n",
      "|              0.09|           0.77|             5|                 275|                 4|            0|   1|                    0|product_mng|medium|\n",
      "|              0.09|           0.77|             5|                 275|                 4|            0|   1|                    0|product_mng|medium|\n",
      "|              0.09|           0.77|             6|                 244|                 4|            0|   1|                    0|  marketing|   low|\n",
      "|              0.09|           0.77|             6|                 244|                 4|            0|   1|                    0|product_mng|   low|\n",
      "|              0.09|           0.77|             6|                 256|                 5|            0|   1|                    0|    support|medium|\n",
      "|              0.09|           0.77|             6|                 282|                 5|            0|   1|                    0|      sales|medium|\n",
      "|              0.09|           0.77|             6|                 290|                 4|            0|   1|                    0|  technical|medium|\n",
      "|              0.09|           0.77|             6|                 310|                 4|            0|   1|                    0|         hr|   low|\n",
      "|              0.09|           0.78|             6|                 254|                 4|            0|   1|                    0|    support|   low|\n",
      "|              0.09|           0.78|             6|                 254|                 4|            0|   1|                    0|    support|   low|\n",
      "|              0.09|           0.78|             6|                 260|                 4|            0|   1|                    0|         IT|medium|\n",
      "|              0.09|           0.79|             6|                 275|                 4|            0|   1|                    0|      sales|   low|\n",
      "|              0.09|           0.79|             6|                 275|                 4|            0|   1|                    0|      sales|   low|\n",
      "|              0.09|           0.79|             6|                 275|                 4|            0|   1|                    0|      sales|   low|\n",
      "|              0.09|           0.79|             6|                 276|                 4|            0|   1|                    0|      sales|medium|\n",
      "|              0.09|           0.79|             6|                 293|                 5|            0|   1|                    0|      sales|   low|\n",
      "|              0.09|           0.79|             6|                 293|                 5|            0|   1|                    0|      sales|   low|\n",
      "+------------------+---------------+--------------+--------------------+------------------+-------------+----+---------------------+-----------+------+\n",
      "only showing top 20 rows\n",
      "\n"
     ]
    }
   ],
   "source": [
    "#to view train_data\n",
    "train_data.show()"
   ]
  },
  {
   "cell_type": "code",
   "execution_count": 42,
   "metadata": {},
   "outputs": [
    {
     "name": "stdout",
     "output_type": "stream",
     "text": [
      "+------------------+---------------+--------------+--------------------+------------------+-------------+----+---------------------+-----------+------+\n",
      "|satisfaction_level|last_evaluation|number_project|average_montly_hours|time_spend_company|Work_accident|left|promotion_last_5years| department|salary|\n",
      "+------------------+---------------+--------------+--------------------+------------------+-------------+----+---------------------+-----------+------+\n",
      "|              0.09|           0.77|             5|                 275|                 4|            0|   1|                    0|product_mng|medium|\n",
      "|              0.09|           0.77|             6|                 290|                 4|            0|   1|                    0|  technical|medium|\n",
      "|              0.09|           0.77|             6|                 290|                 4|            0|   1|                    0|  technical|medium|\n",
      "|              0.09|           0.78|             6|                 244|                 4|            0|   1|                    0|         IT|   low|\n",
      "|              0.09|           0.78|             6|                 254|                 4|            0|   1|                    0|    support|   low|\n",
      "|              0.09|           0.78|             6|                 263|                 4|            0|   1|                    0|  technical|   low|\n",
      "|              0.09|           0.78|             7|                 290|                 4|            0|   1|                    0| management|   low|\n",
      "|              0.09|           0.79|             6|                 293|                 5|            0|   1|                    0|      sales|   low|\n",
      "|              0.09|            0.8|             6|                 247|                 4|            0|   1|                    0|      sales|medium|\n",
      "|              0.09|            0.8|             6|                 301|                 5|            0|   1|                    0|         IT|medium|\n",
      "|              0.09|            0.8|             6|                 304|                 4|            0|   1|                    0|  technical|   low|\n",
      "|              0.09|            0.8|             6|                 304|                 4|            0|   1|                    0|  technical|   low|\n",
      "|              0.09|            0.8|             6|                 304|                 5|            0|   1|                    0|  technical|medium|\n",
      "|              0.09|            0.8|             6|                 304|                 5|            0|   1|                    0|  technical|medium|\n",
      "|              0.09|            0.8|             7|                 283|                 5|            0|   1|                    0|  technical|   low|\n",
      "|              0.09|           0.82|             6|                 249|                 4|            0|   1|                    0|  technical|medium|\n",
      "|              0.09|           0.82|             6|                 251|                 4|            0|   1|                    0|    support|   low|\n",
      "|              0.09|           0.83|             6|                 255|                 4|            0|   1|                    0|      sales|   low|\n",
      "|              0.09|           0.83|             6|                 255|                 4|            0|   1|                    0|      sales|   low|\n",
      "|              0.09|           0.83|             6|                 286|                 4|            0|   1|                    0|         hr|   low|\n",
      "+------------------+---------------+--------------+--------------------+------------------+-------------+----+---------------------+-----------+------+\n",
      "only showing top 20 rows\n",
      "\n"
     ]
    }
   ],
   "source": [
    "#to viewa test_data\n",
    "test_data.show()"
   ]
  },
  {
   "cell_type": "code",
   "execution_count": 44,
   "metadata": {},
   "outputs": [],
   "source": [
    "#create a model with train_data\n",
    "model = pipeline.fit(train_data)"
   ]
  },
  {
   "cell_type": "code",
   "execution_count": 45,
   "metadata": {},
   "outputs": [],
   "source": [
    "#evaluating with test_data\n",
    "test_eval= model.transform(test_data)"
   ]
  },
  {
   "cell_type": "code",
   "execution_count": 47,
   "metadata": {},
   "outputs": [
    {
     "data": {
      "text/plain": [
       "['satisfaction_level',\n",
       " 'last_evaluation',\n",
       " 'number_project',\n",
       " 'average_montly_hours',\n",
       " 'time_spend_company',\n",
       " 'Work_accident',\n",
       " 'left',\n",
       " 'promotion_last_5years',\n",
       " 'department',\n",
       " 'salary',\n",
       " 'department_en',\n",
       " 'salary_en',\n",
       " 'features',\n",
       " 'rawPrediction',\n",
       " 'probability',\n",
       " 'prediction']"
      ]
     },
     "execution_count": 47,
     "metadata": {},
     "output_type": "execute_result"
    }
   ],
   "source": [
    "test_eval.columns"
   ]
  },
  {
   "cell_type": "code",
   "execution_count": 48,
   "metadata": {},
   "outputs": [
    {
     "name": "stdout",
     "output_type": "stream",
     "text": [
      "+--------------------+--------------------+--------------------+----------+\n",
      "|            features|       rawPrediction|         probability|prediction|\n",
      "+--------------------+--------------------+--------------------+----------+\n",
      "|[0.09,0.77,5.0,27...|[-0.5642488331120...|[0.36256493283259...|       1.0|\n",
      "|[0.09,0.77,6.0,29...|[-0.3707105211441...|[0.40836934577251...|       1.0|\n",
      "|[0.09,0.77,6.0,29...|[-0.3707105211441...|[0.40836934577251...|       1.0|\n",
      "|[0.09,0.78,6.0,24...|[-0.7996797558882...|[0.31009402636043...|       1.0|\n",
      "|[0.09,0.78,6.0,25...|[-0.8540535805701...|[0.29858321842602...|       1.0|\n",
      "|[0.09,0.78,6.0,26...|[-0.9040579133600...|[0.28821730929698...|       1.0|\n",
      "|[0.09,0.78,7.0,29...|[-0.6454855407091...|[0.34400758028789...|       1.0|\n",
      "|[0.09,0.79,6.0,29...|[-1.2937691804654...|[0.21521552121688...|       1.0|\n",
      "|[0.09,0.8,6.0,247...|[-0.2116437008529...|[0.44728569760350...|       1.0|\n",
      "|[0.09,0.8,6.0,301...|[-0.6574596752154...|[0.34131049092922...|       1.0|\n",
      "|[0.09,0.8,6.0,304...|[-1.0953020311301...|[0.25062118679319...|       1.0|\n",
      "|[0.09,0.8,6.0,304...|[-1.0953020311301...|[0.25062118679319...|       1.0|\n",
      "|[0.09,0.8,6.0,304...|[-0.6919259624161...|[0.33360477035664...|       1.0|\n",
      "|[0.09,0.8,6.0,304...|[-0.6919259624161...|[0.33360477035664...|       1.0|\n",
      "|[0.09,0.8,7.0,283...|[-0.9543254232492...|[0.27801577694487...|       1.0|\n",
      "|[0.09,0.82,6.0,24...|[-0.2217987290746...|[0.44477652407880...|       1.0|\n",
      "|[0.09,0.82,6.0,25...|[-0.8651350052946...|[0.29626761355166...|       1.0|\n",
      "|[0.09,0.83,6.0,25...|[-0.9100182594873...|[0.28699610080636...|       1.0|\n",
      "|[0.09,0.83,6.0,25...|[-0.9100182594873...|[0.28699610080636...|       1.0|\n",
      "|[0.09,0.83,6.0,28...|[-0.9600412620385...|[0.27686993360411...|       1.0|\n",
      "+--------------------+--------------------+--------------------+----------+\n",
      "only showing top 20 rows\n",
      "\n"
     ]
    }
   ],
   "source": [
    "test_eval.select('features','rawPrediction','probability','prediction').show()"
   ]
  },
  {
   "cell_type": "code",
   "execution_count": 64,
   "metadata": {},
   "outputs": [],
   "source": [
    "#to Evaluate the model\n",
    "from pyspark.ml.evaluation import BinaryClassificationEvaluator\n",
    "evaluator = BinaryClassificationEvaluator(rawPredictionCol='probability',labelCol='left')"
   ]
  },
  {
   "cell_type": "code",
   "execution_count": 65,
   "metadata": {},
   "outputs": [
    {
     "data": {
      "text/plain": [
       "0.8218704304578666"
      ]
     },
     "execution_count": 65,
     "metadata": {},
     "output_type": "execute_result"
    }
   ],
   "source": [
    "#Accuracy\n",
    "evaluator.evaluate(test_eval)"
   ]
  }
 ],
 "metadata": {
  "kernelspec": {
   "display_name": "Python 3",
   "language": "python",
   "name": "python3"
  },
  "language_info": {
   "codemirror_mode": {
    "name": "ipython",
    "version": 3
   },
   "file_extension": ".py",
   "mimetype": "text/x-python",
   "name": "python",
   "nbconvert_exporter": "python",
   "pygments_lexer": "ipython3",
   "version": "3.6.5"
  }
 },
 "nbformat": 4,
 "nbformat_minor": 2
}
